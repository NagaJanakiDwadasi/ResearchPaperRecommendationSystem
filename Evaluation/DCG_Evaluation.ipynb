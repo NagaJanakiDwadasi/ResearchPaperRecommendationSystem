{
 "cells": [
  {
   "cell_type": "code",
   "execution_count": 3,
   "metadata": {},
   "outputs": [
    {
     "name": "stdout",
     "output_type": "stream",
     "text": [
      "Discount:  [3.321928094887363, 2.095903274289385, 1.6609640474436815, 1.4306765580733931, 1.285097208938469, 1.1832946624549385, 1.1073093649624544, 1.0479516371446924, 1.0, 0.9602525677891276]\n",
      "Gain:  [15, 15, 15, 15, 15, 7, 7, 7, 7, 7]\n",
      "DCG of our Recommendation System:  184.01019538094286\n"
     ]
    }
   ],
   "source": [
    "import math\n",
    "import numpy as np\n",
    "\n",
    "def get_dcg(k,l):\n",
    "    c = [1/math.log(i+2,10) for i in range(k)]\n",
    "    print('Discount: ', c)\n",
    "    g = [np.power(2,j)-1 for j in l]\n",
    "    print('Gain: ',g)\n",
    "    DCG = [p*q for p,q in zip(c,g)]\n",
    "    DCG = np.sum(DCG)\n",
    "    return DCG\n",
    "\n",
    "print('DCG of our Recommendation System: ', get_dcg(10, [4,4,4,4,4,3,3,3,3,3]))"
   ]
  },
  {
   "cell_type": "code",
   "execution_count": 4,
   "metadata": {},
   "outputs": [
    {
     "name": "stdout",
     "output_type": "stream",
     "text": [
      "Discount:  [3.321928094887363, 2.095903274289385, 1.6609640474436815, 1.4306765580733931, 1.285097208938469, 1.1832946624549385, 1.1073093649624544, 1.0479516371446924, 1.0, 0.9602525677891276]\n",
      "Gain:  [7, 7, 7, 7, 7, 7, 7, 7, 7, 3]\n",
      "DCG of semantic scholar:  101.81263164072803\n"
     ]
    }
   ],
   "source": [
    "print('DCG of semantic scholar: ', get_dcg(10, [3,3,3,3,3,3,3,3,3,2]))"
   ]
  },
  {
   "cell_type": "code",
   "execution_count": null,
   "metadata": {},
   "outputs": [],
   "source": []
  }
 ],
 "metadata": {
  "kernelspec": {
   "display_name": "Python 3",
   "language": "python",
   "name": "python3"
  },
  "language_info": {
   "codemirror_mode": {
    "name": "ipython",
    "version": 3
   },
   "file_extension": ".py",
   "mimetype": "text/x-python",
   "name": "python",
   "nbconvert_exporter": "python",
   "pygments_lexer": "ipython3",
   "version": "3.7.3"
  }
 },
 "nbformat": 4,
 "nbformat_minor": 2
}
