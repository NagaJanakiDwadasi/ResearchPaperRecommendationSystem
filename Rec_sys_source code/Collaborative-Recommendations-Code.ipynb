{
 "cells": [
  {
   "cell_type": "code",
   "execution_count": 9,
   "metadata": {},
   "outputs": [
    {
     "data": {
      "text/plain": [
       "['DeepDriving: Learning Affordance for Direct Perception in Autonomous Driving',\n",
       " 'Learning visual similarity for product design with convolutional neural networks']"
      ]
     },
     "execution_count": 9,
     "metadata": {},
     "output_type": "execute_result"
    }
   ],
   "source": [
    "#import statements\n",
    "import pandas as pd\n",
    "import nltk\n",
    "import csv\n",
    "from nltk.corpus import stopwords\n",
    "from nltk.tokenize import word_tokenize\n",
    "\n",
    "#checks citation matches between base paper and dataset\n",
    "def checkCitationMatch(baseCitList, index, df):\n",
    "    potentialRecoList = []\n",
    "    for i in range(len(df)):\n",
    "        if i!=index:\n",
    "            citcols = df.iloc[i]['Reference Titles']\n",
    "            citList = citcols.split(',')\n",
    "            count = 0\n",
    "            for citTitle in citList:\n",
    "                if citTitle in baseCitList:\n",
    "                    count = count + 1\n",
    "            if count>0:\n",
    "                potentialRecoList.append(i)\n",
    "    return potentialRecoList\n",
    "\n",
    "#checks if any common paper exists for base paper and potential recommendable paper\n",
    "def checkIfCommonPaperExists(index1, index2, title1, title2, df):\n",
    "    flag = False\n",
    "    for i in range(len(df)):\n",
    "        if (i!=index1 and i!=index2):\n",
    "            paper = df.iloc[[i]]\n",
    "            citcol = list(paper['Reference Titles'])\n",
    "            citList = citcol[0].split(',')\n",
    "            if title1.iloc[0] and title2.iloc[0] in citList:\n",
    "                flag = True\n",
    "    return flag\n",
    "\n",
    "#checks common papers for a base paper\n",
    "def checkCommonPaper(index1, potentialRecoList, df):\n",
    "    modifiedRecoList = []\n",
    "    paper1 = df.iloc[[index1]]\n",
    "    title1 = paper1['Title of the Article']\n",
    "    for index2 in potentialRecoList:\n",
    "        paper2 = df.iloc[[index2]]\n",
    "        title2 = paper2['Title of the Article']\n",
    "        flag = checkIfCommonPaperExists(index1, index2, title1, title2, df)\n",
    "        if flag == True:\n",
    "            modifiedRecoList.append(index2)\n",
    "    return modifiedRecoList\n",
    "#main function\n",
    "def findMoreSimilar(index, filename):\n",
    "    df = pd.read_csv(filename)\n",
    "    result = []\n",
    "    basePaperRecord = df.iloc[[index]]\n",
    "    baseCitRecord = list(basePaperRecord['Reference Titles'])\n",
    "    baseCitList = baseCitRecord[0].split(',')\n",
    "    potentialRecoList = checkCitationMatch(baseCitList, index, df)\n",
    "    finalRecoList = checkCommonPaper(index, potentialRecoList, df)\n",
    "    if len(finalRecoList) == 0:\n",
    "        result = finalRecoList\n",
    "    else:\n",
    "        for i in finalRecoList:\n",
    "            result.append(df.iloc[i]['Title of the Article'])\n",
    "    return result\n",
    "#sample search query based on passed index value\n",
    "filename = 'final.csv'\n",
    "findMoreSimilar(297, filename)"
   ]
  },
  {
   "cell_type": "code",
   "execution_count": null,
   "metadata": {},
   "outputs": [],
   "source": []
  }
 ],
 "metadata": {
  "kernelspec": {
   "display_name": "Python 3",
   "language": "python",
   "name": "python3"
  },
  "language_info": {
   "codemirror_mode": {
    "name": "ipython",
    "version": 3
   },
   "file_extension": ".py",
   "mimetype": "text/x-python",
   "name": "python",
   "nbconvert_exporter": "python",
   "pygments_lexer": "ipython3",
   "version": "3.7.3"
  }
 },
 "nbformat": 4,
 "nbformat_minor": 2
}
